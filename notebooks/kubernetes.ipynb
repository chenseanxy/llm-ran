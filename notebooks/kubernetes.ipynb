{
 "cells": [
  {
   "cell_type": "code",
   "execution_count": 8,
   "metadata": {},
   "outputs": [],
   "source": [
    "import matplotlib.pyplot as plt\n",
    "import numpy as np\n",
    "import pandas as pd\n",
    "import json\n",
    "from tqdm.notebook import tqdm\n",
    "\n",
    "from langgraph.errors import GraphRecursionError"
   ]
  },
  {
   "cell_type": "code",
   "execution_count": 2,
   "metadata": {},
   "outputs": [],
   "source": [
    "%load_ext autoreload\n",
    "%autoreload 2\n",
    "\n",
    "from llm_ran.llm import get_model, unload_model, models\n",
    "from llm_ran.test.utils import semantic_equal\n",
    "from llm_ran.graph import run_graph\n",
    "from llm_ran.kubernetes.direct import kubernetes_direct_chain\n",
    "from llm_ran.kubernetes.codegen import kubernetes_codegen_chain\n",
    "from llm_ran.kubernetes.test import QUERIES_ANSWERS\n",
    "from llm_ran.logging import setup_logging\n",
    "setup_logging(to_file=True)"
   ]
  },
  {
   "cell_type": "code",
   "execution_count": 10,
   "metadata": {},
   "outputs": [
    {
     "data": {
      "application/vnd.jupyter.widget-view+json": {
       "model_id": "fd011b7efe11464b89f4fe6604f5a2f2",
       "version_major": 2,
       "version_minor": 0
      },
      "text/plain": [
       "Models:   0%|          | 0/3 [00:00<?, ?it/s]"
      ]
     },
     "metadata": {},
     "output_type": "display_data"
    },
    {
     "data": {
      "application/vnd.jupyter.widget-view+json": {
       "model_id": "1a3a956d26934329a2558f986a1d3129",
       "version_major": 2,
       "version_minor": 0
      },
      "text/plain": [
       "Graphs:   0%|          | 0/2 [00:00<?, ?it/s]"
      ]
     },
     "metadata": {},
     "output_type": "display_data"
    },
    {
     "data": {
      "application/vnd.jupyter.widget-view+json": {
       "model_id": "0eeb273e6f47465aaae3a3fc7933cda8",
       "version_major": 2,
       "version_minor": 0
      },
      "text/plain": [
       "Queries:   0%|          | 0/7 [00:00<?, ?it/s]"
      ]
     },
     "metadata": {},
     "output_type": "display_data"
    },
    {
     "name": "stdout",
     "output_type": "stream",
     "text": [
      "Graph:  direct\n",
      "Query:  What are the names and ports of the services in the 'monitoring' namespace? Return name as keys and ports in a list as values, example {'service1': [80, 443], 'service2': [8080]}\n"
     ]
    },
    {
     "data": {
      "application/vnd.jupyter.widget-view+json": {
       "model_id": "f1ff024ab12c42ceb8f75fa67a1bd1e9",
       "version_major": 2,
       "version_minor": 0
      },
      "text/plain": [
       "  0%|          | 0/20 [00:00<?, ?it/s]"
      ]
     },
     "metadata": {},
     "output_type": "display_data"
    },
    {
     "name": "stdout",
     "output_type": "stream",
     "text": [
      "Graph:  direct\n",
      "Query:  List all the pod names in the 'monitoring' namespace. Return as a list of pod names. Example ['pod1', 'pod2']\n"
     ]
    },
    {
     "data": {
      "application/vnd.jupyter.widget-view+json": {
       "model_id": "19185f5b9ca7488b8cd111ce945224f1",
       "version_major": 2,
       "version_minor": 0
      },
      "text/plain": [
       "  0%|          | 0/20 [00:00<?, ?it/s]"
      ]
     },
     "metadata": {},
     "output_type": "display_data"
    },
    {
     "name": "stdout",
     "output_type": "stream",
     "text": [
      "Graph:  direct\n",
      "Query:  List all the nodes. Return as a list of node names. Example ['node1', 'node2']\n"
     ]
    },
    {
     "data": {
      "application/vnd.jupyter.widget-view+json": {
       "model_id": "16e5a7c207b748fa831a280210ed2b97",
       "version_major": 2,
       "version_minor": 0
      },
      "text/plain": [
       "  0%|          | 0/20 [00:00<?, ?it/s]"
      ]
     },
     "metadata": {},
     "output_type": "display_data"
    },
    {
     "name": "stdout",
     "output_type": "stream",
     "text": [
      "Graph:  direct\n",
      "Query:  Show all the pods in the 'monitoring' namespace that are running on node 'k3d-oran-agent-1'.Return as a list of pod names. Example ['pod1', 'pod2']\n"
     ]
    },
    {
     "data": {
      "application/vnd.jupyter.widget-view+json": {
       "model_id": "43e9ddb2f49646b1b0d370d2c7971bc5",
       "version_major": 2,
       "version_minor": 0
      },
      "text/plain": [
       "  0%|          | 0/20 [00:00<?, ?it/s]"
      ]
     },
     "metadata": {},
     "output_type": "display_data"
    },
    {
     "name": "stdout",
     "output_type": "stream",
     "text": [
      "Graph:  direct\n",
      "Query:  Given a pod name 'prometheus-monitoring-kube-prometheus-prometheus-0' in the 'monitoring' namespace, get the pod's node name.Example 'node1'\n"
     ]
    },
    {
     "data": {
      "application/vnd.jupyter.widget-view+json": {
       "model_id": "81ca202e1f4142e8b144d71264ea75e0",
       "version_major": 2,
       "version_minor": 0
      },
      "text/plain": [
       "  0%|          | 0/20 [00:00<?, ?it/s]"
      ]
     },
     "metadata": {},
     "output_type": "display_data"
    },
    {
     "name": "stdout",
     "output_type": "stream",
     "text": [
      "Graph:  direct\n",
      "Query:  In namespace 'monitoring', list all the pods that are running on same kubernetes node as pod 'prometheus-monitoring-kube-prometheus-prometheus-0' (including this one). Return as a list. Example ['pod1', 'pod2']\n"
     ]
    },
    {
     "data": {
      "application/vnd.jupyter.widget-view+json": {
       "model_id": "e816793c4e324096abb5168d8fe32c9e",
       "version_major": 2,
       "version_minor": 0
      },
      "text/plain": [
       "  0%|          | 0/20 [00:00<?, ?it/s]"
      ]
     },
     "metadata": {},
     "output_type": "display_data"
    },
    {
     "name": "stdout",
     "output_type": "stream",
     "text": [
      "Graph:  direct\n",
      "Query:  In namespace 'monitoring', find out the node where pod 'prometheus-monitoring-kube-prometheus-prometheus-0' is deployed on, then use that find all the pods that are running on the same node. Return the names of the pods. Example ['pod1', 'pod2']\n"
     ]
    },
    {
     "data": {
      "application/vnd.jupyter.widget-view+json": {
       "model_id": "43a466dafc0040edb7be3d33b8743afd",
       "version_major": 2,
       "version_minor": 0
      },
      "text/plain": [
       "  0%|          | 0/20 [00:00<?, ?it/s]"
      ]
     },
     "metadata": {},
     "output_type": "display_data"
    },
    {
     "data": {
      "application/vnd.jupyter.widget-view+json": {
       "model_id": "c9b04e79457d41b3b73114a69d70ac91",
       "version_major": 2,
       "version_minor": 0
      },
      "text/plain": [
       "Queries:   0%|          | 0/7 [00:00<?, ?it/s]"
      ]
     },
     "metadata": {},
     "output_type": "display_data"
    },
    {
     "name": "stdout",
     "output_type": "stream",
     "text": [
      "Graph:  codegen\n",
      "Query:  What are the names and ports of the services in the 'monitoring' namespace? Return name as keys and ports in a list as values, example {'service1': [80, 443], 'service2': [8080]}\n"
     ]
    },
    {
     "data": {
      "application/vnd.jupyter.widget-view+json": {
       "model_id": "eacd8d5f59c54e1eb9babcc7e8cca180",
       "version_major": 2,
       "version_minor": 0
      },
      "text/plain": [
       "  0%|          | 0/20 [00:00<?, ?it/s]"
      ]
     },
     "metadata": {},
     "output_type": "display_data"
    },
    {
     "name": "stdout",
     "output_type": "stream",
     "text": [
      "{'alertmanager-operated': [9093, 9094, 9094]}\n",
      "{'monitoring-grafana': [80]}\n",
      "{'monitoring-kube-prometheus-alertmanager': [9093, 8080]}\n",
      "{'monitoring-kube-prometheus-operator': [443]}\n",
      "{'monitoring-kube-prometheus-prometheus': [9090, 8080]}\n",
      "{'monitoring-kube-state-metrics': [8080]}\n",
      "{'monitoring-prometheus-node-exporter': [9100]}\n",
      "{'prometheus-operated': [9090]}\n",
      "{'alertmanager-operated': [9093, 9094, 9094], 'monitoring-grafana': [80], 'monitoring-kube-prometheus-alertmanager': [9093, 8080], 'monitoring-kube-prometheus-operator': [443], 'monitoring-kube-prometheus-prometheus': [9090, 8080], 'monitoring-kube-state-metrics': [8080], 'monitoring-prometheus-node-exporter': [9100], 'prometheus-operated': [9090]}\n",
      "{'alertmanager-operated': [9093, 9094, 9094], 'monitoring-grafana': [80], 'monitoring-kube-prometheus-alertmanager': [9093, 8080], 'monitoring-kube-prometheus-operator': [443], 'monitoring-kube-prometheus-prometheus': [9090, 8080], 'monitoring-kube-state-metrics': [8080], 'monitoring-prometheus-node-exporter': [9100], 'prometheus-operated': [9090]}\n",
      "{'alertmanager-operated': [None, None, None], 'monitoring-grafana': [None], 'monitoring-kube-prometheus-alertmanager': [None, None], 'monitoring-kube-prometheus-operator': [None], 'monitoring-kube-prometheus-prometheus': [None, None], 'monitoring-kube-state-metrics': [None], 'monitoring-prometheus-node-exporter': [None], 'prometheus-operated': [None]}\n",
      "{'alertmanager-operated': [9093, 9094, 9094], 'monitoring-grafana': [80], 'monitoring-kube-prometheus-alertmanager': [9093, 8080], 'monitoring-kube-prometheus-operator': [443], 'monitoring-kube-prometheus-prometheus': [9090, 8080], 'monitoring-kube-state-metrics': [8080], 'monitoring-prometheus-node-exporter': [9100], 'prometheus-operated': [9090]}\n",
      "{\"alertmanager-operated\": [9093, 9094, 9094], \"monitoring-grafana\": [80], \"monitoring-kube-prometheus-alertmanager\": [9093, 8080], \"monitoring-kube-prometheus-operator\": [443], \"monitoring-kube-prometheus-prometheus\": [9090, 8080], \"monitoring-kube-state-metrics\": [8080], \"monitoring-prometheus-node-exporter\": [9100], \"prometheus-operated\": [9090]}\n",
      "{'result': {'kubernetes': [1, 2, 3, 4, 5, 6, 7, 8, 9, 10, 11, 12, 13, 14, 15, 16, 17, 18, 19, 20, 21, 22, 23, 24, 25, 26, 27, 28, 29, 30, 31, 32, 33, 34, 35, 36, 37, 38, 39, 40, 41, 42, 43, 44, 45, 46, 47, 48, 49, 50, 51, 52, 53, 54, 55, 56, 57, 58, 59, 60, 61, 62, 63, 64, 65, 66, 67, 68, 69, 70, 71, 72, 73, 74, 75, 76, 77, 78, 79, 80, 81, 82, 83, 84, 85, 86, 87, 88, 89, 90, 91, 92, 93, 94, 95, 96, 97, 98, 99, 100], 'istiod': [1, 2, 3, 4, 5, 6, 7, 8, 9, 10, 11, 12, 13, 14, 15, 16, 17, 18, 19, 20, 21, 22, 23, 24, 25, 26, 27, 28, 29, 30, 31, 32, 33, 34, 35, 36, 37, 38, 39, 40, 41, 42, 43, 44, 45, 46, 47, 48, 49, 50, 51, 52, 53, 54, 55, 56, 57, 58, 59, 60, 61, 62, 63, 64, 65, 66, 67, 68, 69, 70, 71, 72, 73, 74, 75, 76, 77, 78, 79, 80, 81, 82, 83, 84, 85, 86, 87, 88, 89, 90, 91, 92, 93, 94, 95, 96, 97, 98, 99, 100], 'kube-dns': [1, 2, 3, 4, 5, 6, 7, 8, 9, 10, 11, 12, 13, 14, 15, 16, 17, 18, 19, 20, 21, 22, 23, 24, 25, 26, 27, 28, 29, 30, 31, 32, 33, 34, 35, 36, 37, 38, 39, 40, 41, 42, 43, 44, 45, 46, 47, 48, 49, 50, 51, 52, 53, 54, 55, 56, 57, 58, 59, 60, 61, 62, 63, 64, 65, 66, 67, 68, 69, 70, 71, 72, 73, 74, 75, 76, 77, 78, 79, 80, 81, 82, 83, 84, 85, 86, 87, 88, 89, 90, 91, 92, 93, 94, 95, 96, 97, 98, 99, 100], 'metrics-server': [1, 2, 3, 4, 5, 6, 7, 8, 9, 10, 11, 12, 13, 14, 15, 16, 17, 18, 19, 20, 21, 22, 23, 24, 25, 26, 27, 28, 29, 30, 31, 32, 33, 34, 35, 36, 37, 38, 39, 40, 41, 42, 43, 44, 45, 46, 47, 48, 49, 50, 51, 52, 53, 54, 55, 56, 57, 58, 59, 60, 61, 62, 63, 64, 65, 66, 67, 68, 69, 70, 71, 72, 73, 74, 75, 76, 77, 78, 79, 80, 81, 82, 83, 84, 85, 86, 87, 88, 89, 90, 91, 92, 93, 94, 95, 96, 97, 98, 99, 100], 'monitoring-kube-prometheus-coredns': [1, 2, 3, 4, 5, 6, 7, 8, 9, 10, 11, 12, 13, 14, 15, 16, 17, 18, 19, 20, 21, 22, 23, 24, 25, 26, 27, 28, 29, 30, 31, 32, 33, 34, 35, 36, 37, 38, 39, 40, 41, 42, 43, 44, 45, 46, 47, 48, 49, 50, 51, 52, 53, 54, 55, 56, 57, 58, 59, 60, 61, 62, 63, 64, 65, 66, 67, 68, 69, 70, 71, 72, 73, 74, 75, 76, 77, 78, 79, 80, 81, 82, 83, 84, 85, 86, 87, 88, 89, 90, 91, 92, 93, 94, 95, 96, 97, 98, 99, 100], 'monitoring-kube-prometheus-kube-controller-manager': [1, 2, 3, 4, 5, 6, 7, 8, 9, 10, 11, 12, 13, 14, 15, 16, 17, 18, 19, 20, 21, 22, 23, 24, 25, 26, 27, 28, 29, 30, 31, 32, 33, 34, 35, 36, 37, 38, 39, 40, 41, 42, 43, 44, 45, 46, 47, 48, 49, 50, 51, 52, 53, 54, 55, 56, 57, 58, 59, 60, 61, 62, 63, 64, 65, 66, 67, 68, 69, 70, 71, 72, 73, 74, 75, 76, 77, 78, 79, 80, 81, 82, 83, 84, 85, 86, 87, 88, 89, 90, 91, 92, 93, 94, 95, 96, 97, 98, 99, 100], 'monitoring-kube-prometheus-kube-etcd': [1, 2, 3, 4, 5, 6, 7, 8, 9, 10, 11, 12, 13, 14, 15, 16, 17, 18, 19, 20, 21, 22, 23, 24, 25, 26, 27, 28, 29, 30, 31, 32, 33, 34, 35, 36, 37, 38, 39, 40, 41, 42, 43, 44, 45, 46, 47, 48, 49, 50, 51, 52, 53, 54, 55, 56, 57, 58, 59, 60, 61, 62, 63, 64, 65, 66, 67, 68, 69, 70, 71, 72, 73, 74, 75, 76, 77, 78, 79, 80, 81, 82, 83, 84, 85, 86, 87, 88, 89, 90, 91, 92, 93, 94, 95, 96, 97, 98, 99, 100], 'monitoring-kube-prometheus-kube-proxy': [1, 2, 3, 4, 5, 6, 7, 8, 9, 10, 11, 12, 13, 14, 15, 16, 17, 18, 19, 20, 21, 22, 23, 24, 25, 26, 27, 28, 29, 30, 31, 32, 33, 34, 35, 36, 37, 38, 39, 40, 41, 42, 43, 44, 45, 46, 47, 48, 49, 50, 51, 52, 53, 54, 55, 56, 57, 58, 59, 60, 61, 62, 63, 64, 65, 66, 67, 68, 69, 70, 71, 72, 73, 74, 75, 76, 77, 78, 79, 80, 81, 82, 83, 84, 85, 86, 87, 88, 89, 90, 91, 92, 93, 94, 95, 96, 97, 98, 99, 100], 'monitoring-kube-prometheus-kube-scheduler': [1, 2, 3, 4, 5, 6, 7, 8, 9, 10, 11, 12, 13, 14, 15, 16, 17, 18, 19, 20, 21, 22, 23, 24, 25, 26, 27, 28, 29, 30, 31, 32, 33, 34, 35, 36, 37, 38, 39, 40, 41, 42, 43, 44, 45, 46, 47, 48, 49, 50, 51, 52, 53, 54, 55, 56, 57, 58, 59, 60, 61, 62, 63, 64, 65, 66, 67, 68, 69, 70, 71, 72, 73, 74, 75, 76, 77, 78, 79, 80, 81, 82, 83, 84, 85, 86, 87, 88, 89, 90, 91, 92, 93, 94, 95, 96, 97, 98, 99, 100], 'monitoring-kube-prometheus-kubelet': [1, 2, 3, 4, 5, 6, 7, 8, 9, 10, 11, 12, 13, 14, 15, 16, 17, 18, 19, 20, 21, 22, 23, 24, 25, 26, 27, 28, 29, 30, 31, 32, 33, 34, 35, 36, 37, 38, 39, 40, 41, 42, 43, 44, 45, 46, 47, 48, 49, 50, 51, 52, 53, 54, 55, 56, 57, 58, 59, 60, 61, 62, 63, 64, 65, 66, 67, 68, 69, 70, 71, 72, 73, 74, 75, 76, 77, 78, 79, 80, 81, 82, 83, 84, 85, 86, 87, 88, 89, 90, 91, 92, 93, 94, 95, 96, 97, 98, 99, 100], 'traefik': [1, 2, 3, 4, 5, 6, 7, 8, 9, 10, 11, 12, 13, 14, 15, 16, 17, 18, 19, 20, 21, 22, 23, 24, 25, 26, 27, 28, 29, 30, 31, 32, 33, 34, 35, 36, 37, 38, 39, 40, 41, 42, 43, 44, 45, 46, 47, 48, 49, 50, 51, 52, 53, 54, 55, 56, 57, 58, 59, 60, 61, 62, 63, 64, 65, 66, 67, 68, 69, 70, 71, 72, 73, 74, 75, 76, 77, 78, 79, 80, 81, 82, 83, 84, 85, 86, 87, 88, 89, 90, 91, 92, 93, 94, 95, 96, 97, 98, 99, 100], 'kubernetes-dashboard-api': [1, 2, 3, 4, 5, 6, 7, 8, 9, 10, 11, 12, 13, 14, 15, 16, 17, 18, 19, 20, 21, 22, 23, 24, 25, 26, 27, 28, 29, 30, 31, 32, 33, 34, 35, 36, 37, 38, 39, 40, 41, 42, 43, 44, 45, 46, 47, 48, 49, 50, 51, 52, 53, 54, 55, 56, 57, 58, 59, 60, 61, 62, 63, 64, 65, 66, 67, 68, 69, 70, 71, 72, 73, 74, 75, 76, 77, 78, 79, 80, 81, 82, 83, 84, 85, 86, 87, 88, 89, 90, 91, 92, 93, 94, 95, 96, 97, 98, 99, 100], 'kubernetes-dashboard-auth': [1, 2, 3, 4, 5, 6, 7, 8, 9, 10, 11, 12, 13, 14, 15, 16, 17, 18, 19, 20, 21, 22, 23, 24, 25, 26, 27, 28, 29, 30, 31, 32, 33, 34, 35, 36, 37, 38, 39, 40, 41, 42, 43, 44, 45, 46, 47, 48, 49, 50, 51, 52, 53, 54, 55, 56, 57, 58, 59, 60, 61, 62, 63, 64, 65, 66, 67, 68, 69, 70, 71, 72, 73, 74, 75, 76, 77, 78, 79, 80, 81, 82, 83, 84, 85, 86, 87, 88, 89, 90, 91, 92, 93, 94, 95, 96, 97, 98, 99, 100], 'kubernetes-dashboard-kong-proxy': [1, 2, 3, 4, 5, 6, 7, 8, 9, 10, 11, 12, 13, 14, 15, 16, 17, 18, 19, 20, 21, 22, 23, 24, 25, 26, 27, 28, 29, 30, 31, 32, 33, 34, 35, 36, 37, 38, 39, 40, 41, 42, 43, 44, 45, 46, 47, 48, 49, 50, 51, 52, 53, 54, 55, 56, 57, 58, 59, 60, 61, 62, 63, 64, 65, 66, 67, 68, 69, 70, 71, 72, 73, 74, 75, 76, 77, 78, 79, 80, 81, 82, 83, 84, 85, 86, 87, 88, 89, 90, 91, 92, 93, 94, 95, 96, 97, 98, 99, 100], 'kubernetes-dashboard-metrics-scraper': [1, 2, 3, 4, 5, 6, 7, 8, 9, 10, 11, 12, 13, 14, 15, 16, 17, 18, 19, 20, 21, 22, 23, 24, 25, 26, 27, 28, 29, 30, 31, 32, 33, 34, 35, 36, 37, 38, 39, 40, 41, 42, 43, 44, 45, 46, 47, 48, 49, 50, 51, 52, 53, 54, 55, 56, 57, 58, 59, 60, 61, 62, 63, 64, 65, 66, 67, 68, 69, 70, 71, 72, 73, 74, 75, 76, 77, 78, 79, 80, 81, 82, 83, 84, 85, 86, 87, 88, 89, 90, 91, 92, 93, 94, 95, 96, 97, 98, 99, 100], 'kubernetes-dashboard-web': [1, 2, 3, 4, 5, 6, 7, 8, 9, 10, 11, 12, 13, 14, 15, 16, 17, 18, 19, 20, 21, 22, 23, 24, 25, 26, 27, 28, 29, 30, 31, 32, 33, 34, 35, 36, 37, 38, 39, 40, 41, 42, 43, 44, 45, 46, 47, 48, 49, 50, 51, 52, 53, 54, 55, 56, 57, 58, 59, 60, 61, 62, 63, 64, 65, 66, 67, 68, 69, 70, 71, 72, 73, 74, 75, 76, 77, 78, 79, 80, 81, 82, 83, 84, 85, 86, 87, 88, 89, 90, 91, 92, 93, 94, 95, 96, 97, 98, 99, 100], 'alertmanager-operated': [1, 2, 3, 4, 5, 6, 7, 8, 9, 10, 11, 12, 13, 14, 15, 16, 17, 18, 19, 20, 21, 22, 23, 24, 25, 26, 27, 28, 29, 30, 31, 32, 33, 34, 35, 36, 37, 38, 39, 40, 41, 42, 43, 44, 45, 46, 47, 48, 49, 50, 51, 52, 53, 54, 55, 56, 57, 58, 59, 60, 61, 62, 63, 64, 65, 66, 67, 68, 69, 70, 71, 72, 73, 74, 75, 76, 77, 78, 79, 80, 81, 82, 83, 84, 85, 86, 87, 88, 89, 90, 91, 92, 93, 94, 95, 96, 97, 98, 99, 100], 'monitoring-grafana': [1, 2, 3, 4, 5, 6, 7, 8, 9, 10, 11, 12, 13, 14, 15, 16, 17, 18, 19, 20, 21, 22, 23, 24, 25, 26, 27, 28, 29, 30, 31, 32, 33, 34, 35, 36, 37, 38, 39, 40, 41, 42, 43, 44, 45, 46, 47, 48, 49, 50, 51, 52, 53, 54, 55, 56, 57, 58, 59, 60, 61, 62, 63, 64, 65, 66, 67, 68, 69, 70, 71, 72, 73, 74, 75, 76, 77, 78, 79, 80, 81, 82, 83, 84, 85, 86, 87, 88, 89, 90, 91, 92, 93, 94, 95, 96, 97, 98, 99, 100], 'monitoring-kube-prometheus-alertmanager': [1, 2, 3, 4, 5, 6, 7, 8, 9, 10, 11, 12, 13, 14, 15, 16, 17, 18, 19, 20, 21, 22, 23, 24, 25, 26, 27, 28, 29, 30, 31, 32, 33, 34, 35, 36, 37, 38, 39, 40, 41, 42, 43, 44, 45, 46, 47, 48, 49, 50, 51, 52, 53, 54, 55, 56, 57, 58, 59, 60, 61, 62, 63, 64, 65, 66, 67, 68, 69, 70, 71, 72, 73, 74, 75, 76, 77, 78, 79, 80, 81, 82, 83, 84, 85, 86, 87, 88, 89, 90, 91, 92, 93, 94, 95, 96, 97, 98, 99, 100], 'monitoring-kube-prometheus-operator': [1, 2, 3, 4, 5, 6, 7, 8, 9, 10, 11, 12, 13, 14, 15, 16, 17, 18, 19, 20, 21, 22, 23, 24, 25, 26, 27, 28, 29, 30, 31, 32, 33, 34, 35, 36, 37, 38, 39, 40, 41, 42, 43, 44, 45, 46, 47, 48, 49, 50, 51, 52, 53, 54, 55, 56, 57, 58, 59, 60, 61, 62, 63, 64, 65, 66, 67, 68, 69, 70, 71, 72, 73, 74, 75, 76, 77, 78, 79, 80, 81, 82, 83, 84, 85, 86, 87, 88, 89, 90, 91, 92, 93, 94, 95, 96, 97, 98, 99, 100], 'monitoring-kube-prometheus-prometheus': [1, 2, 3, 4, 5, 6, 7, 8, 9, 10, 11, 12, 13, 14, 15, 16, 17, 18, 19, 20, 21, 22, 23, 24, 25, 26, 27, 28, 29, 30, 31, 32, 33, 34, 35, 36, 37, 38, 39, 40, 41, 42, 43, 44, 45, 46, 47, 48, 49, 50, 51, 52, 53, 54, 55, 56, 57, 58, 59, 60, 61, 62, 63, 64, 65, 66, 67, 68, 69, 70, 71, 72, 73, 74, 75, 76, 77, 78, 79, 80, 81, 82, 83, 84, 85, 86, 87, 88, 89, 90, 91, 92, 93, 94, 95, 96, 97, 98, 99, 100], 'monitoring-kube-state-metrics': [1, 2, 3, 4, 5, 6, 7, 8, 9, 10, 11, 12, 13, 14, 15, 16, 17, 18, 19, 20, 21, 22, 23, 24, 25, 26, 27, 28, 29, 30, 31, 32, 33, 34, 35, 36, 37, 38, 39, 40, 41, 42, 43, 44, 45, 46, 47, 48, 49, 50, 51, 52, 53, 54, 55, 56, 57, 58, 59, 60, 61, 62, 63, 64, 65, 66, 67, 68, 69, 70, 71, 72, 73, 74, 75, 76, 77, 78, 79, 80, 81, 82, 83, 84, 85, 86, 87, 88, 89, 90, 91, 92, 93, 94, 95, 96, 97, 98, 99, 100], 'monitoring-prometheus-node-exporter': [1, 2, 3, 4, 5, 6, 7, 8, 9, 10, 11, 12, 13, 14, 15, 16, 17, 18, 19, 20, 21, 22, 23, 24, 25, 26, 27, 28, 29, 30, 31, 32, 33, 34, 35, 36, 37, 38, 39, 40, 41, 42, 43, 44, 45, 46, 47, 48, 49, 50, 51, 52, 53, 54, 55, 56, 57, 58, 59, 60, 61, 62, 63, 64, 65, 66, 67, 68, 69, 70, 71, 72, 73, 74, 75, 76, 77, 78, 79, 80, 81, 82, 83, 84, 85, 86, 87, 88, 89, 90, 91, 92, 93, 94, 95, 96, 97, 98, 99, 100], 'prometheus-operated': [1, 2, 3, 4, 5, 6, 7, 8, 9, 10, 11, 12, 13, 14, 15, 16, 17, 18, 19, 20, 21, 22, 23, 24, 25, 26, 27, 28, 29, 30, 31, 32, 33, 34, 35, 36, 37, 38, 39, 40, 41, 42, 43, 44, 45, 46, 47, 48, 49, 50, 51, 52, 53, 54, 55, 56, 57, 58, 59, 60, 61, 62, 63, 64, 65, 66, 67, 68, 69, 70, 71, 72, 73, 74, 75, 76, 77, 78, 79, 80, 81, 82, 83, 84, 85, 86, 87, 88, 89, 90, 91, 92, 93, 94, 95, 96, 97, 98, 99, 100]}}\n",
      "{'alertmanager-operated': '[9093, 9094, 9094]', 'monitoring-grafana': '[80]', 'monitoring-kube-prometheus-alertmanager': '[9093, 8080]', 'monitoring-kube-prometheus-operator': '[443]', 'monitoring-kube-prometheus-prometheus': '[9090, 8080]', 'monitoring-kube-state-metrics': '[8080]', 'monitoring-prometheus-node-exporter': '[9100]', 'prometheus-operated': '[9090]'}\n",
      "{'alertmanager-operated': [9093, 9094, 9094], 'monitoring-grafana': [80], 'monitoring-kube-prometheus-alertmanager': [9093, 8080], 'monitoring-kube-prometheus-operator': [443], 'monitoring-kube-prometheus-prometheus': [9090, 8080], 'monitoring-kube-state-metrics': [8080], 'monitoring-prometheus-node-exporter': [9100], 'prometheus-operated': [9090]}\n",
      "{'alertmanager-operated': [9093, 9094, 9094]}\n",
      "{'monitoring-grafana': [80]}\n",
      "{'monitoring-kube-prometheus-alertmanager': [9093, 8080]}\n",
      "{'monitoring-kube-prometheus-operator': [443]}\n",
      "{'monitoring-kube-prometheus-prometheus': [9090, 8080]}\n",
      "{'monitoring-kube-state-metrics': [8080]}\n",
      "{'monitoring-prometheus-node-exporter': [9100]}\n",
      "{'prometheus-operated': [9090]}\n",
      "{'alertmanager-operated': [9093, 9094, 9094], 'monitoring-grafana': [80], 'monitoring-kube-prometheus-alertmanager': [9093, 8080], 'monitoring-kube-prometheus-operator': [443], 'monitoring-kube-prometheus-prometheus': [9090, 8080], 'monitoring-kube-state-metrics': [8080], 'monitoring-prometheus-node-exporter': [9100], 'prometheus-operated': [9090]}\n",
      "Graph:  codegen\n",
      "Query:  List all the pod names in the 'monitoring' namespace. Return as a list of pod names. Example ['pod1', 'pod2']\n"
     ]
    },
    {
     "data": {
      "application/vnd.jupyter.widget-view+json": {
       "model_id": "609aba4ee88e4415a0ccbb931f985e2b",
       "version_major": 2,
       "version_minor": 0
      },
      "text/plain": [
       "  0%|          | 0/20 [00:00<?, ?it/s]"
      ]
     },
     "metadata": {},
     "output_type": "display_data"
    },
    {
     "name": "stdout",
     "output_type": "stream",
     "text": [
      "['alertmanager-monitoring-kube-prometheus-alertmanager-0', 'monitoring-grafana-667db56848-r4l56', 'monitoring-kube-prometheus-operator-69b5c446c8-drq67', 'monitoring-kube-state-metrics-66f866cd8f-lp65n', 'monitoring-prometheus-node-exporter-6npnj', 'monitoring-prometheus-node-exporter-kktx7', 'monitoring-prometheus-node-exporter-q4qpm', 'monitoring-prometheus-node-exporter-qhr5d', 'monitoring-prometheus-node-exporter-xmdtz', 'prometheus-monitoring-kube-prometheus-prometheus-0']\n",
      "['alertmanager-monitoring-kube-prometheus-alertmanager-0', 'monitoring-grafana-667db56848-r4l56', 'monitoring-kube-prometheus-operator-69b5c446c8-drq67', 'monitoring-kube-state-metrics-66f866cd8f-lp65n', 'monitoring-prometheus-node-exporter-6npnj', 'monitoring-prometheus-node-exporter-kktx7', 'monitoring-prometheus-node-exporter-q4qpm', 'monitoring-prometheus-node-exporter-qhr5d', 'monitoring-prometheus-node-exporter-xmdtz', 'prometheus-monitoring-kube-prometheus-prometheus-0']\n",
      "['alertmanager-monitoring-kube-prometheus-alertmanager-0', 'monitoring-grafana-667db56848-r4l56', 'monitoring-kube-prometheus-operator-69b5c446c8-drq67', 'monitoring-kube-state-metrics-66f866cd8f-lp65n', 'monitoring-prometheus-node-exporter-6npnj', 'monitoring-prometheus-node-exporter-kktx7', 'monitoring-prometheus-node-exporter-q4qpm', 'monitoring-prometheus-node-exporter-qhr5d', 'monitoring-prometheus-node-exporter-xmdtz', 'prometheus-monitoring-kube-prometheus-prometheus-0']\n",
      "['alertmanager-monitoring-kube-prometheus-alertmanager-0', 'monitoring-grafana-667db56848-r4l56', 'monitoring-kube-prometheus-operator-69b5c446c8-drq67', 'monitoring-kube-state-metrics-66f866cd8f-lp65n', 'monitoring-prometheus-node-exporter-6npnj', 'monitoring-prometheus-node-exporter-kktx7', 'monitoring-prometheus-node-exporter-q4qpm', 'monitoring-prometheus-node-exporter-qhr5d', 'monitoring-prometheus-node-exporter-xmdtz', 'prometheus-monitoring-kube-prometheus-prometheus-0']\n",
      "['alertmanager-monitoring-kube-prometheus-alertmanager-0', 'monitoring-grafana-667db56848-r4l56', 'monitoring-kube-prometheus-operator-69b5c446c8-drq67', 'monitoring-kube-state-metrics-66f866cd8f-lp65n', 'monitoring-prometheus-node-exporter-6npnj', 'monitoring-prometheus-node-exporter-kktx7', 'monitoring-prometheus-node-exporter-q4qpm', 'monitoring-prometheus-node-exporter-qhr5d', 'monitoring-prometheus-node-exporter-xmdtz', 'prometheus-monitoring-kube-prometheus-prometheus-0']\n",
      "['alertmanager-monitoring-kube-prometheus-alertmanager-0', 'monitoring-grafana-667db56848-r4l56', 'monitoring-kube-prometheus-operator-69b5c446c8-drq67', 'monitoring-kube-state-metrics-66f866cd8f-lp65n', 'monitoring-prometheus-node-exporter-6npnj', 'monitoring-prometheus-node-exporter-kktx7', 'monitoring-prometheus-node-exporter-q4qpm', 'monitoring-prometheus-node-exporter-qhr5d', 'monitoring-prometheus-node-exporter-xmdtz', 'prometheus-monitoring-kube-prometheus-prometheus-0']\n",
      "[\"alertmanager-monitoring-kube-prometheus-alertmanager-0\", \"monitoring-grafana-667db56848-r4l56\", \"monitoring-kube-prometheus-operator-69b5c446c8-drq67\", \"monitoring-kube-state-metrics-66f866cd8f-lp65n\", \"monitoring-prometheus-node-exporter-6npnj\", \"monitoring-prometheus-node-exporter-kktx7\", \"monitoring-prometheus-node-exporter-q4qpm\", \"monitoring-prometheus-node-exporter-qhr5d\", \"monitoring-prometheus-node-exporter-xmdtz\", \"prometheus-monitoring-kube-prometheus-prometheus-0\"]\n",
      "[\"alertmanager-monitoring-kube-prometheus-alertmanager-0\", \"monitoring-grafana-667db56848-r4l56\", \"monitoring-kube-prometheus-operator-69b5c446c8-drq67\", \"monitoring-kube-state-metrics-66f866cd8f-lp65n\", \"monitoring-prometheus-node-exporter-6npnj\", \"monitoring-prometheus-node-exporter-kktx7\", \"monitoring-prometheus-node-exporter-q4qpm\", \"monitoring-prometheus-node-exporter-qhr5d\", \"monitoring-prometheus-node-exporter-xmdtz\", \"prometheus-monitoring-kube-prometheus-prometheus-0\"]\n",
      "['alertmanager-monitoring-kube-prometheus-alertmanager-0', 'monitoring-grafana-667db56848-r4l56', 'monitoring-kube-prometheus-operator-69b5c446c8-drq67', 'monitoring-kube-state-metrics-66f866cd8f-lp65n', 'monitoring-prometheus-node-exporter-6npnj', 'monitoring-prometheus-node-exporter-kktx7', 'monitoring-prometheus-node-exporter-q4qpm', 'monitoring-prometheus-node-exporter-qhr5d', 'monitoring-prometheus-node-exporter-xmdtz', 'prometheus-monitoring-kube-prometheus-prometheus-0']\n",
      "['alertmanager-monitoring-kube-prometheus-alertmanager-0', 'monitoring-grafana-667db56848-r4l56', 'monitoring-kube-prometheus-operator-69b5c446c8-drq67', 'monitoring-kube-state-metrics-66f866cd8f-lp65n', 'monitoring-prometheus-node-exporter-6npnj', 'monitoring-prometheus-node-exporter-kktx7', 'monitoring-prometheus-node-exporter-q4qpm', 'monitoring-prometheus-node-exporter-qhr5d', 'monitoring-prometheus-node-exporter-xmdtz', 'prometheus-monitoring-kube-prometheus-prometheus-0']\n",
      "['alertmanager-monitoring-kube-prometheus-alertmanager-0', 'monitoring-grafana-667db56848-r4l56', 'monitoring-kube-prometheus-operator-69b5c446c8-drq67', 'monitoring-kube-state-metrics-66f866cd8f-lp65n', 'monitoring-prometheus-node-exporter-6npnj', 'monitoring-prometheus-node-exporter-kktx7', 'monitoring-prometheus-node-exporter-q4qpm', 'monitoring-prometheus-node-exporter-qhr5d', 'monitoring-prometheus-node-exporter-xmdtz', 'prometheus-monitoring-kube-prometheus-prometheus-0']\n",
      "['alertmanager-monitoring-kube-prometheus-alertmanager-0', 'monitoring-grafana-667db56848-r4l56', 'monitoring-kube-prometheus-operator-69b5c446c8-drq67', 'monitoring-kube-state-metrics-66f866cd8f-lp65n', 'monitoring-prometheus-node-exporter-6npnj', 'monitoring-prometheus-node-exporter-kktx7', 'monitoring-prometheus-node-exporter-q4qpm', 'monitoring-prometheus-node-exporter-qhr5d', 'monitoring-prometheus-node-exporter-xmdtz', 'prometheus-monitoring-kube-prometheus-prometheus-0']\n",
      "['istiod-cbfb5bfff-sdr8l', 'coredns-7b98449c4-z565f', 'helm-install-traefik-crd-szgtk', 'helm-install-traefik-nkgcb', 'local-path-provisioner-595dcfc56f-5fdjs', 'metrics-server-cdcc87586-jdlhj', 'svclb-traefik-6f192656-7jxmk', 'svclb-traefik-6f192656-8w5zk', 'svclb-traefik-6f192656-gm4cr', 'svclb-traefik-6f192656-pdh4t', 'svclb-traefik-6f192656-xwq6l', 'traefik-d7c9c5778-6z7bk', 'kubernetes-dashboard-api-7cc885c496-6sh6g', 'kubernetes-dashboard-auth-65f5f45cf4-rb5hj', 'kubernetes-dashboard-kong-7696bb8c88-ckjpv', 'kubernetes-dashboard-metrics-scraper-766bb9db9c-f9jvc', 'kubernetes-dashboard-web-7854c6c764-9sdgc', 'alertmanager-monitoring-kube-prometheus-alertmanager-0', 'monitoring-grafana-667db56848-r4l56', 'monitoring-kube-prometheus-operator-69b5c446c8-drq67', 'monitoring-kube-state-metrics-66f866cd8f-lp65n', 'monitoring-prometheus-node-exporter-6npnj', 'monitoring-prometheus-node-exporter-kktx7', 'monitoring-prometheus-node-exporter-q4qpm', 'monitoring-prometheus-node-exporter-qhr5d', 'monitoring-prometheus-node-exporter-xmdtz', 'prometheus-monitoring-kube-prometheus-prometheus-0']\n",
      "['alertmanager-monitoring-kube-prometheus-alertmanager-0', 'monitoring-grafana-667db56848-r4l56', 'monitoring-kube-prometheus-operator-69b5c446c8-drq67', 'monitoring-kube-state-metrics-66f866cd8f-lp65n', 'monitoring-prometheus-node-exporter-6npnj', 'monitoring-prometheus-node-exporter-kktx7', 'monitoring-prometheus-node-exporter-q4qpm', 'monitoring-prometheus-node-exporter-qhr5d', 'monitoring-prometheus-node-exporter-xmdtz', 'prometheus-monitoring-kube-prometheus-prometheus-0']\n",
      "['alertmanager-monitoring-kube-prometheus-alertmanager-0', 'monitoring-grafana-667db56848-r4l56', 'monitoring-kube-prometheus-operator-69b5c446c8-drq67', 'monitoring-kube-state-metrics-66f866cd8f-lp65n', 'monitoring-prometheus-node-exporter-6npnj', 'monitoring-prometheus-node-exporter-kktx7', 'monitoring-prometheus-node-exporter-q4qpm', 'monitoring-prometheus-node-exporter-qhr5d', 'monitoring-prometheus-node-exporter-xmdtz', 'prometheus-monitoring-kube-prometheus-prometheus-0']\n",
      "Graph:  codegen\n",
      "Query:  List all the nodes. Return as a list of node names. Example ['node1', 'node2']\n"
     ]
    },
    {
     "data": {
      "application/vnd.jupyter.widget-view+json": {
       "model_id": "e7b9ec085c124114b76d53fb46b8d1b1",
       "version_major": 2,
       "version_minor": 0
      },
      "text/plain": [
       "  0%|          | 0/20 [00:00<?, ?it/s]"
      ]
     },
     "metadata": {},
     "output_type": "display_data"
    },
    {
     "name": "stdout",
     "output_type": "stream",
     "text": [
      "['k3d-oran-agent-0', 'k3d-oran-agent-1', 'k3d-oran-agent-2', 'k3d-oran-agent-3', 'k3d-oran-server-0']\n",
      "{'nodes': ['k3d-oran-agent-0', 'k3d-oran-agent-1', 'k3d-oran-agent-2', 'k3d-oran-agent-3', 'k3d-oran-server-0']}\n",
      "Graph:  codegen\n",
      "Query:  Show all the pods in the 'monitoring' namespace that are running on node 'k3d-oran-agent-1'.Return as a list of pod names. Example ['pod1', 'pod2']\n"
     ]
    },
    {
     "data": {
      "application/vnd.jupyter.widget-view+json": {
       "model_id": "fcb5ee6146f74275ba6013a01293f305",
       "version_major": 2,
       "version_minor": 0
      },
      "text/plain": [
       "  0%|          | 0/20 [00:00<?, ?it/s]"
      ]
     },
     "metadata": {},
     "output_type": "display_data"
    },
    {
     "name": "stdout",
     "output_type": "stream",
     "text": [
      "{}\n",
      "[]\n",
      "[]\n",
      "[]\n",
      "[]\n",
      "[]\n",
      "[]\n",
      "[]\n",
      "[]\n",
      "['monitoring-prometheus-node-exporter-kktx7', 'prometheus-monitoring-kube-prometheus-prometheus-0']\n",
      "['monitoring-prometheus-node-exporter-kktx7', 'prometheus-monitoring-kube-prometheus-prometheus-0']\n",
      "['monitoring-prometheus-node-exporter-kktx7', 'prometheus-monitoring-kube-prometheus-prometheus-0']\n",
      "Graph:  codegen\n",
      "Query:  Given a pod name 'prometheus-monitoring-kube-prometheus-prometheus-0' in the 'monitoring' namespace, get the pod's node name.Example 'node1'\n"
     ]
    },
    {
     "data": {
      "application/vnd.jupyter.widget-view+json": {
       "model_id": "7915a41cf24a47c6920055ca883171fe",
       "version_major": 2,
       "version_minor": 0
      },
      "text/plain": [
       "  0%|          | 0/20 [00:00<?, ?it/s]"
      ]
     },
     "metadata": {},
     "output_type": "display_data"
    },
    {
     "name": "stdout",
     "output_type": "stream",
     "text": [
      "k3d-oran-agent-1\n",
      "{'node_name': 'k3d-oran-agent-1'}\n",
      "k3d-oran-agent-1\n",
      "{'node_name': 'k3d-oran-agent-1'}\n",
      "k3d-oran-agent-1\n",
      "{'nodeName': None}\n",
      "{'nodeName': ''}\n",
      "k3d-oran-agent-1\n",
      "None\n",
      "{'node_name': None}\n",
      "{'node_name': 'k3d-oran-agent-1'}\n",
      "{'node_name': 'k3d-oran-agent-1'}\n",
      "k3d-oran-agent-1\n",
      "Graph:  codegen\n",
      "Query:  In namespace 'monitoring', list all the pods that are running on same kubernetes node as pod 'prometheus-monitoring-kube-prometheus-prometheus-0' (including this one). Return as a list. Example ['pod1', 'pod2']\n"
     ]
    },
    {
     "data": {
      "application/vnd.jupyter.widget-view+json": {
       "model_id": "14b9d265526247fca123bb6d5f63fb81",
       "version_major": 2,
       "version_minor": 0
      },
      "text/plain": [
       "  0%|          | 0/20 [00:00<?, ?it/s]"
      ]
     },
     "metadata": {},
     "output_type": "display_data"
    },
    {
     "name": "stdout",
     "output_type": "stream",
     "text": [
      "[]\n",
      "[]\n",
      "[]\n",
      "[]\n",
      "[]\n",
      "[]\n",
      "[]\n",
      "[]\n",
      "[]\n",
      "[]\n",
      "[]\n",
      "[]\n",
      "[]\n",
      "[]\n",
      "[]\n",
      "[]\n",
      "[]\n",
      "['local-path-provisioner-595dcfc56f-5fdjs', 'svclb-traefik-6f192656-xwq6l', 'kubernetes-dashboard-auth-65f5f45cf4-rb5hj', 'kubernetes-dashboard-metrics-scraper-766bb9db9c-f9jvc', 'monitoring-prometheus-node-exporter-kktx7', 'prometheus-monitoring-kube-prometheus-prometheus-0']\n",
      "Graph:  codegen\n",
      "Query:  In namespace 'monitoring', find out the node where pod 'prometheus-monitoring-kube-prometheus-prometheus-0' is deployed on, then use that find all the pods that are running on the same node. Return the names of the pods. Example ['pod1', 'pod2']\n"
     ]
    },
    {
     "data": {
      "application/vnd.jupyter.widget-view+json": {
       "model_id": "c7d356171c5248d7bbb08221b1c7d800",
       "version_major": 2,
       "version_minor": 0
      },
      "text/plain": [
       "  0%|          | 0/20 [00:00<?, ?it/s]"
      ]
     },
     "metadata": {},
     "output_type": "display_data"
    },
    {
     "data": {
      "application/vnd.jupyter.widget-view+json": {
       "model_id": "f03e68fbf11846129163757fdc134981",
       "version_major": 2,
       "version_minor": 0
      },
      "text/plain": [
       "Graphs:   0%|          | 0/2 [00:00<?, ?it/s]"
      ]
     },
     "metadata": {},
     "output_type": "display_data"
    },
    {
     "data": {
      "application/vnd.jupyter.widget-view+json": {
       "model_id": "76a3474f3885451b95e19dd421de53e6",
       "version_major": 2,
       "version_minor": 0
      },
      "text/plain": [
       "Queries:   0%|          | 0/7 [00:00<?, ?it/s]"
      ]
     },
     "metadata": {},
     "output_type": "display_data"
    },
    {
     "name": "stdout",
     "output_type": "stream",
     "text": [
      "Graph:  direct\n",
      "Query:  What are the names and ports of the services in the 'monitoring' namespace? Return name as keys and ports in a list as values, example {'service1': [80, 443], 'service2': [8080]}\n"
     ]
    },
    {
     "data": {
      "application/vnd.jupyter.widget-view+json": {
       "model_id": "d98595a8b6484236877f2e25777cf32c",
       "version_major": 2,
       "version_minor": 0
      },
      "text/plain": [
       "  0%|          | 0/20 [00:00<?, ?it/s]"
      ]
     },
     "metadata": {},
     "output_type": "display_data"
    },
    {
     "name": "stdout",
     "output_type": "stream",
     "text": [
      "Graph:  direct\n",
      "Query:  List all the pod names in the 'monitoring' namespace. Return as a list of pod names. Example ['pod1', 'pod2']\n"
     ]
    },
    {
     "data": {
      "application/vnd.jupyter.widget-view+json": {
       "model_id": "07bd38a56fc44afa98eb8b1e0fa24f71",
       "version_major": 2,
       "version_minor": 0
      },
      "text/plain": [
       "  0%|          | 0/20 [00:00<?, ?it/s]"
      ]
     },
     "metadata": {},
     "output_type": "display_data"
    },
    {
     "name": "stdout",
     "output_type": "stream",
     "text": [
      "Graph:  direct\n",
      "Query:  List all the nodes. Return as a list of node names. Example ['node1', 'node2']\n"
     ]
    },
    {
     "data": {
      "application/vnd.jupyter.widget-view+json": {
       "model_id": "6d4935a483954816a23b117fd628a1b9",
       "version_major": 2,
       "version_minor": 0
      },
      "text/plain": [
       "  0%|          | 0/20 [00:00<?, ?it/s]"
      ]
     },
     "metadata": {},
     "output_type": "display_data"
    },
    {
     "name": "stdout",
     "output_type": "stream",
     "text": [
      "Graph:  direct\n",
      "Query:  Show all the pods in the 'monitoring' namespace that are running on node 'k3d-oran-agent-1'.Return as a list of pod names. Example ['pod1', 'pod2']\n"
     ]
    },
    {
     "data": {
      "application/vnd.jupyter.widget-view+json": {
       "model_id": "e3fa51d0ff9b43768f198a93116bca1f",
       "version_major": 2,
       "version_minor": 0
      },
      "text/plain": [
       "  0%|          | 0/20 [00:00<?, ?it/s]"
      ]
     },
     "metadata": {},
     "output_type": "display_data"
    },
    {
     "name": "stdout",
     "output_type": "stream",
     "text": [
      "Graph:  direct\n",
      "Query:  Given a pod name 'prometheus-monitoring-kube-prometheus-prometheus-0' in the 'monitoring' namespace, get the pod's node name.Example 'node1'\n"
     ]
    },
    {
     "data": {
      "application/vnd.jupyter.widget-view+json": {
       "model_id": "8488bba887e34f5f8732bc99275a1f2b",
       "version_major": 2,
       "version_minor": 0
      },
      "text/plain": [
       "  0%|          | 0/20 [00:00<?, ?it/s]"
      ]
     },
     "metadata": {},
     "output_type": "display_data"
    },
    {
     "name": "stdout",
     "output_type": "stream",
     "text": [
      "Graph:  direct\n",
      "Query:  In namespace 'monitoring', list all the pods that are running on same kubernetes node as pod 'prometheus-monitoring-kube-prometheus-prometheus-0' (including this one). Return as a list. Example ['pod1', 'pod2']\n"
     ]
    },
    {
     "data": {
      "application/vnd.jupyter.widget-view+json": {
       "model_id": "96ef389d5e09462f8a5fdf22e363ebca",
       "version_major": 2,
       "version_minor": 0
      },
      "text/plain": [
       "  0%|          | 0/20 [00:00<?, ?it/s]"
      ]
     },
     "metadata": {},
     "output_type": "display_data"
    },
    {
     "name": "stdout",
     "output_type": "stream",
     "text": [
      "Graph:  direct\n",
      "Query:  In namespace 'monitoring', find out the node where pod 'prometheus-monitoring-kube-prometheus-prometheus-0' is deployed on, then use that find all the pods that are running on the same node. Return the names of the pods. Example ['pod1', 'pod2']\n"
     ]
    },
    {
     "data": {
      "application/vnd.jupyter.widget-view+json": {
       "model_id": "3fc5412c6650442290f2603b5b743e40",
       "version_major": 2,
       "version_minor": 0
      },
      "text/plain": [
       "  0%|          | 0/20 [00:00<?, ?it/s]"
      ]
     },
     "metadata": {},
     "output_type": "display_data"
    },
    {
     "data": {
      "application/vnd.jupyter.widget-view+json": {
       "model_id": "64300e09d93142f581f3101a7e2a2ef8",
       "version_major": 2,
       "version_minor": 0
      },
      "text/plain": [
       "Queries:   0%|          | 0/7 [00:00<?, ?it/s]"
      ]
     },
     "metadata": {},
     "output_type": "display_data"
    },
    {
     "name": "stdout",
     "output_type": "stream",
     "text": [
      "Graph:  codegen\n",
      "Query:  What are the names and ports of the services in the 'monitoring' namespace? Return name as keys and ports in a list as values, example {'service1': [80, 443], 'service2': [8080]}\n"
     ]
    },
    {
     "data": {
      "application/vnd.jupyter.widget-view+json": {
       "model_id": "fd4056ef56ce4a9b850915d2052c192f",
       "version_major": 2,
       "version_minor": 0
      },
      "text/plain": [
       "  0%|          | 0/20 [00:00<?, ?it/s]"
      ]
     },
     "metadata": {},
     "output_type": "display_data"
    },
    {
     "name": "stdout",
     "output_type": "stream",
     "text": [
      "{'alertmanager-operated': [9093, 9094, 9094], 'monitoring-grafana': [80], 'monitoring-kube-prometheus-alertmanager': [9093, 8080], 'monitoring-kube-prometheus-operator': [443], 'monitoring-kube-prometheus-prometheus': [9090, 8080], 'monitoring-kube-state-metrics': [8080], 'monitoring-prometheus-node-exporter': [9100], 'prometheus-operated': [9090]}\n",
      "{'alertmanager-operated': [9093, 9094, 9094], 'monitoring-grafana': [80], 'monitoring-kube-prometheus-alertmanager': [9093, 8080], 'monitoring-kube-prometheus-operator': [443], 'monitoring-kube-prometheus-prometheus': [9090, 8080], 'monitoring-kube-state-metrics': [8080], 'monitoring-prometheus-node-exporter': [9100], 'prometheus-operated': [9090]}\n",
      "{'alertmanager-operated': [9093, 9094, 9094], 'monitoring-grafana': [80], 'monitoring-kube-prometheus-alertmanager': [9093, 8080], 'monitoring-kube-prometheus-operator': [443], 'monitoring-kube-prometheus-prometheus': [9090, 8080], 'monitoring-kube-state-metrics': [8080], 'monitoring-prometheus-node-exporter': [9100], 'prometheus-operated': [9090]}\n",
      "{'alertmanager-operated': [9093, 9094, 9094], 'monitoring-grafana': [80], 'monitoring-kube-prometheus-alertmanager': [9093, 8080], 'monitoring-kube-prometheus-operator': [443], 'monitoring-kube-prometheus-prometheus': [9090, 8080], 'monitoring-kube-state-metrics': [8080], 'monitoring-prometheus-node-exporter': [9100], 'prometheus-operated': [9090]}\n",
      "{'alertmanager-operated': [9093, 9094, 9094], 'monitoring-grafana': [80], 'monitoring-kube-prometheus-alertmanager': [9093, 8080], 'monitoring-kube-prometheus-operator': [443], 'monitoring-kube-prometheus-prometheus': [9090, 8080], 'monitoring-kube-state-metrics': [8080], 'monitoring-prometheus-node-exporter': [9100], 'prometheus-operated': [9090]}\n",
      "{'alertmanager-operated': [9093, 9094, 9094], 'monitoring-grafana': [80], 'monitoring-kube-prometheus-alertmanager': [9093, 8080], 'monitoring-kube-prometheus-operator': [443], 'monitoring-kube-prometheus-prometheus': [9090, 8080], 'monitoring-kube-state-metrics': [8080], 'monitoring-prometheus-node-exporter': [9100], 'prometheus-operated': [9090]}\n",
      "{'alertmanager-operated': [9093, 9094, 9094], 'monitoring-grafana': [80], 'monitoring-kube-prometheus-alertmanager': [9093, 8080], 'monitoring-kube-prometheus-operator': [443], 'monitoring-kube-prometheus-prometheus': [9090, 8080], 'monitoring-kube-state-metrics': [8080], 'monitoring-prometheus-node-exporter': [9100], 'prometheus-operated': [9090]}\n",
      "{'alertmanager-operated': [9093, 9094, 9094], 'monitoring-grafana': [80], 'monitoring-kube-prometheus-alertmanager': [9093, 8080], 'monitoring-kube-prometheus-operator': [443], 'monitoring-kube-prometheus-prometheus': [9090, 8080], 'monitoring-kube-state-metrics': [8080], 'monitoring-prometheus-node-exporter': [9100], 'prometheus-operated': [9090]}\n",
      "{'alertmanager-operated': [9093, 9094, 9094], 'monitoring-grafana': [80], 'monitoring-kube-prometheus-alertmanager': [9093, 8080], 'monitoring-kube-prometheus-operator': [443], 'monitoring-kube-prometheus-prometheus': [9090, 8080], 'monitoring-kube-state-metrics': [8080], 'monitoring-prometheus-node-exporter': [9100], 'prometheus-operated': [9090]}\n",
      "{'alertmanager-operated': [9093, 9094, 9094], 'monitoring-grafana': [80], 'monitoring-kube-prometheus-alertmanager': [9093, 8080], 'monitoring-kube-prometheus-operator': [443], 'monitoring-kube-prometheus-prometheus': [9090, 8080], 'monitoring-kube-state-metrics': [8080], 'monitoring-prometheus-node-exporter': [9100], 'prometheus-operated': [9090]}\n",
      "{'alertmanager-operated': [9093, 9094, 9094], 'monitoring-grafana': [80], 'monitoring-kube-prometheus-alertmanager': [9093, 8080], 'monitoring-kube-prometheus-operator': [443], 'monitoring-kube-prometheus-prometheus': [9090, 8080], 'monitoring-kube-state-metrics': [8080], 'monitoring-prometheus-node-exporter': [9100], 'prometheus-operated': [9090]}\n",
      "{'alertmanager-operated': [9093, 9094, 9094], 'monitoring-grafana': [80], 'monitoring-kube-prometheus-alertmanager': [9093, 8080], 'monitoring-kube-prometheus-operator': [443], 'monitoring-kube-prometheus-prometheus': [9090, 8080], 'monitoring-kube-state-metrics': [8080], 'monitoring-prometheus-node-exporter': [9100], 'prometheus-operated': [9090]}\n",
      "{'alertmanager-operated': [9093, 9094, 9094], 'monitoring-grafana': [80], 'monitoring-kube-prometheus-alertmanager': [9093, 8080], 'monitoring-kube-prometheus-operator': [443], 'monitoring-kube-prometheus-prometheus': [9090, 8080], 'monitoring-kube-state-metrics': [8080], 'monitoring-prometheus-node-exporter': [9100], 'prometheus-operated': [9090]}\n",
      "{'alertmanager-operated': [9093, 9094, 9094], 'monitoring-grafana': [80], 'monitoring-kube-prometheus-alertmanager': [9093, 8080], 'monitoring-kube-prometheus-operator': [443], 'monitoring-kube-prometheus-prometheus': [9090, 8080], 'monitoring-kube-state-metrics': [8080], 'monitoring-prometheus-node-exporter': [9100], 'prometheus-operated': [9090]}\n",
      "{'alertmanager-operated': [9093, 9094, 9094], 'monitoring-grafana': [80], 'monitoring-kube-prometheus-alertmanager': [9093, 8080], 'monitoring-kube-prometheus-operator': [443], 'monitoring-kube-prometheus-prometheus': [9090, 8080], 'monitoring-kube-state-metrics': [8080], 'monitoring-prometheus-node-exporter': [9100], 'prometheus-operated': [9090]}\n",
      "Graph:  codegen\n",
      "Query:  List all the pod names in the 'monitoring' namespace. Return as a list of pod names. Example ['pod1', 'pod2']\n"
     ]
    },
    {
     "data": {
      "application/vnd.jupyter.widget-view+json": {
       "model_id": "0f6daa025f05499282d874b5540994ee",
       "version_major": 2,
       "version_minor": 0
      },
      "text/plain": [
       "  0%|          | 0/20 [00:00<?, ?it/s]"
      ]
     },
     "metadata": {},
     "output_type": "display_data"
    },
    {
     "name": "stdout",
     "output_type": "stream",
     "text": [
      "Graph:  codegen\n",
      "Query:  List all the nodes. Return as a list of node names. Example ['node1', 'node2']\n"
     ]
    },
    {
     "data": {
      "application/vnd.jupyter.widget-view+json": {
       "model_id": "3830e9efee6940b78387a6bde4c0f206",
       "version_major": 2,
       "version_minor": 0
      },
      "text/plain": [
       "  0%|          | 0/20 [00:00<?, ?it/s]"
      ]
     },
     "metadata": {},
     "output_type": "display_data"
    },
    {
     "name": "stdout",
     "output_type": "stream",
     "text": [
      "Graph:  codegen\n",
      "Query:  Show all the pods in the 'monitoring' namespace that are running on node 'k3d-oran-agent-1'.Return as a list of pod names. Example ['pod1', 'pod2']\n"
     ]
    },
    {
     "data": {
      "application/vnd.jupyter.widget-view+json": {
       "model_id": "176537fdae0342628cd0e0afebb5cc29",
       "version_major": 2,
       "version_minor": 0
      },
      "text/plain": [
       "  0%|          | 0/20 [00:00<?, ?it/s]"
      ]
     },
     "metadata": {},
     "output_type": "display_data"
    },
    {
     "name": "stdout",
     "output_type": "stream",
     "text": [
      "Graph:  codegen\n",
      "Query:  Given a pod name 'prometheus-monitoring-kube-prometheus-prometheus-0' in the 'monitoring' namespace, get the pod's node name.Example 'node1'\n"
     ]
    },
    {
     "data": {
      "application/vnd.jupyter.widget-view+json": {
       "model_id": "c0dcf096b4a640c6aa7bcb8c1604ef11",
       "version_major": 2,
       "version_minor": 0
      },
      "text/plain": [
       "  0%|          | 0/20 [00:00<?, ?it/s]"
      ]
     },
     "metadata": {},
     "output_type": "display_data"
    },
    {
     "name": "stdout",
     "output_type": "stream",
     "text": [
      "{'nodeName': 'k3d-oran-agent-1'}\n",
      "{\"nodeName\": \"k3d-oran-agent-1\"}\n",
      "{\"nodeName\": \"k3d-oran-agent-1\"}\n",
      "Graph:  codegen\n",
      "Query:  In namespace 'monitoring', list all the pods that are running on same kubernetes node as pod 'prometheus-monitoring-kube-prometheus-prometheus-0' (including this one). Return as a list. Example ['pod1', 'pod2']\n"
     ]
    },
    {
     "data": {
      "application/vnd.jupyter.widget-view+json": {
       "model_id": "4a8a8c8f60b440369a725698d7e57d96",
       "version_major": 2,
       "version_minor": 0
      },
      "text/plain": [
       "  0%|          | 0/20 [00:00<?, ?it/s]"
      ]
     },
     "metadata": {},
     "output_type": "display_data"
    },
    {
     "name": "stdout",
     "output_type": "stream",
     "text": [
      "[]\n",
      "[]\n",
      "[]\n",
      "[]\n",
      "[]\n",
      "[]\n",
      "[]\n",
      "[]\n",
      "[]\n",
      "[]\n",
      "[]\n",
      "[]\n",
      "[\"monitoring-prometheus-node-exporter-kktx7\", \"prometheus-monitoring-kube-prometheus-prometheus-0\"]\n",
      "[\"local-path-provisioner-595dcfc56f-5fdjs\", \"svclb-traefik-6f192656-xwq6l\", \"kubernetes-dashboard-auth-65f5f45cf4-rb5hj\", \"kubernetes-dashboard-metrics-scraper-766bb9db9c-f9jvc\", \"monitoring-prometheus-node-exporter-kktx7\", \"prometheus-monitoring-kube-prometheus-prometheus-0\"]\n",
      "[\"local-path-provisioner-595dcfc56f-5fdjs\", \"svclb-traefik-6f192656-xwq6l\", \"kubernetes-dashboard-auth-65f5f45cf4-rb5hj\", \"kubernetes-dashboard-metrics-scraper-766bb9db9c-f9jvc\", \"monitoring-prometheus-node-exporter-kktx7\", \"prometheus-monitoring-kube-prometheus-prometheus-0\"]\n",
      "Graph:  codegen\n",
      "Query:  In namespace 'monitoring', find out the node where pod 'prometheus-monitoring-kube-prometheus-prometheus-0' is deployed on, then use that find all the pods that are running on the same node. Return the names of the pods. Example ['pod1', 'pod2']\n"
     ]
    },
    {
     "data": {
      "application/vnd.jupyter.widget-view+json": {
       "model_id": "4c83c77b636045e98e134fe9bb7c8f30",
       "version_major": 2,
       "version_minor": 0
      },
      "text/plain": [
       "  0%|          | 0/20 [00:00<?, ?it/s]"
      ]
     },
     "metadata": {},
     "output_type": "display_data"
    },
    {
     "name": "stdout",
     "output_type": "stream",
     "text": [
      "[]\n",
      "[]\n",
      "[]\n",
      "{}\n",
      "[]\n",
      "[]\n"
     ]
    },
    {
     "data": {
      "application/vnd.jupyter.widget-view+json": {
       "model_id": "1ba6205fe45d4bd0b3097e258ba3e9a8",
       "version_major": 2,
       "version_minor": 0
      },
      "text/plain": [
       "Graphs:   0%|          | 0/2 [00:00<?, ?it/s]"
      ]
     },
     "metadata": {},
     "output_type": "display_data"
    },
    {
     "data": {
      "application/vnd.jupyter.widget-view+json": {
       "model_id": "efc54dcbc1b742c18800c87af5342f98",
       "version_major": 2,
       "version_minor": 0
      },
      "text/plain": [
       "Queries:   0%|          | 0/7 [00:00<?, ?it/s]"
      ]
     },
     "metadata": {},
     "output_type": "display_data"
    },
    {
     "name": "stdout",
     "output_type": "stream",
     "text": [
      "Graph:  direct\n",
      "Query:  What are the names and ports of the services in the 'monitoring' namespace? Return name as keys and ports in a list as values, example {'service1': [80, 443], 'service2': [8080]}\n"
     ]
    },
    {
     "data": {
      "application/vnd.jupyter.widget-view+json": {
       "model_id": "2f0c9fb55bb64f19a60b7a8f46064e81",
       "version_major": 2,
       "version_minor": 0
      },
      "text/plain": [
       "  0%|          | 0/20 [00:00<?, ?it/s]"
      ]
     },
     "metadata": {},
     "output_type": "display_data"
    },
    {
     "name": "stdout",
     "output_type": "stream",
     "text": [
      "Graph:  direct\n",
      "Query:  List all the pod names in the 'monitoring' namespace. Return as a list of pod names. Example ['pod1', 'pod2']\n"
     ]
    },
    {
     "data": {
      "application/vnd.jupyter.widget-view+json": {
       "model_id": "3944ab19000a4770b707d700d123f24f",
       "version_major": 2,
       "version_minor": 0
      },
      "text/plain": [
       "  0%|          | 0/20 [00:00<?, ?it/s]"
      ]
     },
     "metadata": {},
     "output_type": "display_data"
    },
    {
     "name": "stdout",
     "output_type": "stream",
     "text": [
      "Graph:  direct\n",
      "Query:  List all the nodes. Return as a list of node names. Example ['node1', 'node2']\n"
     ]
    },
    {
     "data": {
      "application/vnd.jupyter.widget-view+json": {
       "model_id": "0f6c9f6a471a4c1fb49abb5e0f979efc",
       "version_major": 2,
       "version_minor": 0
      },
      "text/plain": [
       "  0%|          | 0/20 [00:00<?, ?it/s]"
      ]
     },
     "metadata": {},
     "output_type": "display_data"
    },
    {
     "name": "stdout",
     "output_type": "stream",
     "text": [
      "Graph:  direct\n",
      "Query:  Show all the pods in the 'monitoring' namespace that are running on node 'k3d-oran-agent-1'.Return as a list of pod names. Example ['pod1', 'pod2']\n"
     ]
    },
    {
     "data": {
      "application/vnd.jupyter.widget-view+json": {
       "model_id": "9f42e428e79940b5981c91a20c3290d1",
       "version_major": 2,
       "version_minor": 0
      },
      "text/plain": [
       "  0%|          | 0/20 [00:00<?, ?it/s]"
      ]
     },
     "metadata": {},
     "output_type": "display_data"
    },
    {
     "name": "stdout",
     "output_type": "stream",
     "text": [
      "Graph:  direct\n",
      "Query:  Given a pod name 'prometheus-monitoring-kube-prometheus-prometheus-0' in the 'monitoring' namespace, get the pod's node name.Example 'node1'\n"
     ]
    },
    {
     "data": {
      "application/vnd.jupyter.widget-view+json": {
       "model_id": "f6d51c1fd4da4fec83d498b1f0879496",
       "version_major": 2,
       "version_minor": 0
      },
      "text/plain": [
       "  0%|          | 0/20 [00:00<?, ?it/s]"
      ]
     },
     "metadata": {},
     "output_type": "display_data"
    },
    {
     "name": "stdout",
     "output_type": "stream",
     "text": [
      "Graph:  direct\n",
      "Query:  In namespace 'monitoring', list all the pods that are running on same kubernetes node as pod 'prometheus-monitoring-kube-prometheus-prometheus-0' (including this one). Return as a list. Example ['pod1', 'pod2']\n"
     ]
    },
    {
     "data": {
      "application/vnd.jupyter.widget-view+json": {
       "model_id": "658d5526dd4449bb93ab6fa016dbd8a2",
       "version_major": 2,
       "version_minor": 0
      },
      "text/plain": [
       "  0%|          | 0/20 [00:00<?, ?it/s]"
      ]
     },
     "metadata": {},
     "output_type": "display_data"
    },
    {
     "name": "stdout",
     "output_type": "stream",
     "text": [
      "Graph:  direct\n",
      "Query:  In namespace 'monitoring', find out the node where pod 'prometheus-monitoring-kube-prometheus-prometheus-0' is deployed on, then use that find all the pods that are running on the same node. Return the names of the pods. Example ['pod1', 'pod2']\n"
     ]
    },
    {
     "data": {
      "application/vnd.jupyter.widget-view+json": {
       "model_id": "0d16f012e87c46eb89f7b576ef46cf0b",
       "version_major": 2,
       "version_minor": 0
      },
      "text/plain": [
       "  0%|          | 0/20 [00:00<?, ?it/s]"
      ]
     },
     "metadata": {},
     "output_type": "display_data"
    },
    {
     "data": {
      "application/vnd.jupyter.widget-view+json": {
       "model_id": "42c43631d8234cde844c3b99785e7c98",
       "version_major": 2,
       "version_minor": 0
      },
      "text/plain": [
       "Queries:   0%|          | 0/7 [00:00<?, ?it/s]"
      ]
     },
     "metadata": {},
     "output_type": "display_data"
    },
    {
     "name": "stdout",
     "output_type": "stream",
     "text": [
      "Graph:  codegen\n",
      "Query:  What are the names and ports of the services in the 'monitoring' namespace? Return name as keys and ports in a list as values, example {'service1': [80, 443], 'service2': [8080]}\n"
     ]
    },
    {
     "data": {
      "application/vnd.jupyter.widget-view+json": {
       "model_id": "6c3a4fbeb12d4621a5cb88c4d26ad4ad",
       "version_major": 2,
       "version_minor": 0
      },
      "text/plain": [
       "  0%|          | 0/20 [00:00<?, ?it/s]"
      ]
     },
     "metadata": {},
     "output_type": "display_data"
    },
    {
     "name": "stdout",
     "output_type": "stream",
     "text": [
      "Graph:  codegen\n",
      "Query:  List all the pod names in the 'monitoring' namespace. Return as a list of pod names. Example ['pod1', 'pod2']\n"
     ]
    },
    {
     "data": {
      "application/vnd.jupyter.widget-view+json": {
       "model_id": "2a01c7aadfa249b7a30d4b13608691a3",
       "version_major": 2,
       "version_minor": 0
      },
      "text/plain": [
       "  0%|          | 0/20 [00:00<?, ?it/s]"
      ]
     },
     "metadata": {},
     "output_type": "display_data"
    },
    {
     "name": "stdout",
     "output_type": "stream",
     "text": [
      "Graph:  codegen\n",
      "Query:  List all the nodes. Return as a list of node names. Example ['node1', 'node2']\n"
     ]
    },
    {
     "data": {
      "application/vnd.jupyter.widget-view+json": {
       "model_id": "ac4e4de43e2c48c89b8e4384f11a603c",
       "version_major": 2,
       "version_minor": 0
      },
      "text/plain": [
       "  0%|          | 0/20 [00:00<?, ?it/s]"
      ]
     },
     "metadata": {},
     "output_type": "display_data"
    },
    {
     "name": "stdout",
     "output_type": "stream",
     "text": [
      "Graph:  codegen\n",
      "Query:  Show all the pods in the 'monitoring' namespace that are running on node 'k3d-oran-agent-1'.Return as a list of pod names. Example ['pod1', 'pod2']\n"
     ]
    },
    {
     "data": {
      "application/vnd.jupyter.widget-view+json": {
       "model_id": "6809b10a28e6446184a09d7e42ecbd32",
       "version_major": 2,
       "version_minor": 0
      },
      "text/plain": [
       "  0%|          | 0/20 [00:00<?, ?it/s]"
      ]
     },
     "metadata": {},
     "output_type": "display_data"
    },
    {
     "name": "stdout",
     "output_type": "stream",
     "text": [
      "Graph:  codegen\n",
      "Query:  Given a pod name 'prometheus-monitoring-kube-prometheus-prometheus-0' in the 'monitoring' namespace, get the pod's node name.Example 'node1'\n"
     ]
    },
    {
     "data": {
      "application/vnd.jupyter.widget-view+json": {
       "model_id": "4ceeeee396c042f8a27c150330285ad8",
       "version_major": 2,
       "version_minor": 0
      },
      "text/plain": [
       "  0%|          | 0/20 [00:00<?, ?it/s]"
      ]
     },
     "metadata": {},
     "output_type": "display_data"
    },
    {
     "name": "stdout",
     "output_type": "stream",
     "text": [
      "Graph:  codegen\n",
      "Query:  In namespace 'monitoring', list all the pods that are running on same kubernetes node as pod 'prometheus-monitoring-kube-prometheus-prometheus-0' (including this one). Return as a list. Example ['pod1', 'pod2']\n"
     ]
    },
    {
     "data": {
      "application/vnd.jupyter.widget-view+json": {
       "model_id": "d0525a95da1f44bc81039409f2f7a8de",
       "version_major": 2,
       "version_minor": 0
      },
      "text/plain": [
       "  0%|          | 0/20 [00:00<?, ?it/s]"
      ]
     },
     "metadata": {},
     "output_type": "display_data"
    },
    {
     "name": "stdout",
     "output_type": "stream",
     "text": [
      "{'pods': ['monitoring-prometheus-node-exporter-kktx7', 'prometheus-monitoring-kube-prometheus-prometheus-0']}\n",
      "Graph:  codegen\n",
      "Query:  In namespace 'monitoring', find out the node where pod 'prometheus-monitoring-kube-prometheus-prometheus-0' is deployed on, then use that find all the pods that are running on the same node. Return the names of the pods. Example ['pod1', 'pod2']\n"
     ]
    },
    {
     "data": {
      "application/vnd.jupyter.widget-view+json": {
       "model_id": "f2146bd9990246459e96c90dfc29f2ef",
       "version_major": 2,
       "version_minor": 0
      },
      "text/plain": [
       "  0%|          | 0/20 [00:00<?, ?it/s]"
      ]
     },
     "metadata": {},
     "output_type": "display_data"
    },
    {
     "name": "stdout",
     "output_type": "stream",
     "text": [
      "k3d-oran-agent-1\n",
      "k3d-oran-agent-1\n"
     ]
    }
   ],
   "source": [
    "REPEATS = 20\n",
    "models_ = [\n",
    "    models.LLAMA_31_8B,\n",
    "    models.QWEN_25_7B,\n",
    "    models.QWEN_25_14B,\n",
    "    # models.CLAUDE_BIG,\n",
    "]\n",
    "data = []\n",
    "\n",
    "for model_name in tqdm(models_, desc=\"Models\"):\n",
    "    model = get_model(model_name)\n",
    "    graphs = {\n",
    "        \"direct\": kubernetes_direct_chain(model),\n",
    "        \"codegen\": kubernetes_codegen_chain(model),\n",
    "    }\n",
    "    \n",
    "    for graph_name, graph in tqdm(graphs.items(), total=len(graphs), desc=\"Graphs\"):\n",
    "        for qi, (query, answer_func) in tqdm(enumerate(QUERIES_ANSWERS), total=len(QUERIES_ANSWERS), desc=\"Queries\"):\n",
    "            answer = answer_func()\n",
    "            print(\"Graph: \", graph_name)\n",
    "            print(\"Query: \", query)\n",
    "            # print(\"Actual: \", answer)\n",
    "            for i in tqdm(range(REPEATS)):\n",
    "                # print(f\"Running model {model} repeat {i}\")\n",
    "                try:\n",
    "                    res = run_graph(graph, query, propagate_errors=True)\n",
    "                    loaded = json.loads(res)\n",
    "                    this = {\n",
    "                        \"graph\": graph_name,\n",
    "                        \"model\": model_name,\n",
    "                        \"query_id\": qi,\n",
    "                        \"try\": i,\n",
    "                        \"success\": True,\n",
    "                        \"failed_reason\": None,\n",
    "                        \"equal\": semantic_equal(loaded, answer),\n",
    "                    }\n",
    "                except GraphRecursionError:\n",
    "                    this = {\n",
    "                        \"graph\": graph_name,\n",
    "                        \"model\": model_name,\n",
    "                        \"query_id\": qi,\n",
    "                        \"try\": i,\n",
    "                        \"success\": False,\n",
    "                        \"failed_reason\": \"GraphRecursionError\",\n",
    "                        \"equal\": False,\n",
    "                    }\n",
    "                except json.JSONDecodeError:\n",
    "                    this = {\n",
    "                        \"graph\": graph_name,\n",
    "                        \"model\": model_name,\n",
    "                        \"query_id\": qi,\n",
    "                        \"try\": i,\n",
    "                        \"success\": False,\n",
    "                        \"failed_reason\": \"JSONDecodeError\",\n",
    "                        \"equal\": False,\n",
    "                    }\n",
    "                except Exception as e:\n",
    "                    this = {\n",
    "                        \"graph\": graph_name,\n",
    "                        \"model\": model_name,\n",
    "                        \"query_id\": qi,\n",
    "                        \"try\": i,\n",
    "                        \"success\": False,\n",
    "                        \"failed_reason\": e.__class__.__name__,\n",
    "                        \"equal\": False,\n",
    "                    }\n",
    "                data.append(this)\n",
    "                # print(this)\n",
    "                # print(\"Model: \", )\n",
    "            # print(\"\")\n",
    "\n",
    "    # After running the model, unload it to make room for the next one\n",
    "    unload_model(model)\n",
    "\n",
    "df = pd.DataFrame(data)\n",
    "df.to_csv(\"../data/llm_ran_kubernetes_base.csv\", index=False)"
   ]
  },
  {
   "cell_type": "code",
   "execution_count": 118,
   "metadata": {},
   "outputs": [
    {
     "data": {
      "text/html": [
       "<div>\n",
       "<style scoped>\n",
       "    .dataframe tbody tr th:only-of-type {\n",
       "        vertical-align: middle;\n",
       "    }\n",
       "\n",
       "    .dataframe tbody tr th {\n",
       "        vertical-align: top;\n",
       "    }\n",
       "\n",
       "    .dataframe thead th {\n",
       "        text-align: right;\n",
       "    }\n",
       "</style>\n",
       "<table border=\"1\" class=\"dataframe\">\n",
       "  <thead>\n",
       "    <tr style=\"text-align: right;\">\n",
       "      <th></th>\n",
       "      <th></th>\n",
       "      <th>success</th>\n",
       "      <th>equal</th>\n",
       "    </tr>\n",
       "    <tr>\n",
       "      <th>model</th>\n",
       "      <th>graph</th>\n",
       "      <th></th>\n",
       "      <th></th>\n",
       "    </tr>\n",
       "  </thead>\n",
       "  <tbody>\n",
       "    <tr>\n",
       "      <th rowspan=\"2\" valign=\"top\">llama3.1:8b</th>\n",
       "      <th>codegen</th>\n",
       "      <td>0.114286</td>\n",
       "      <td>0.014286</td>\n",
       "    </tr>\n",
       "    <tr>\n",
       "      <th>direct</th>\n",
       "      <td>0.428571</td>\n",
       "      <td>0.092857</td>\n",
       "    </tr>\n",
       "    <tr>\n",
       "      <th rowspan=\"2\" valign=\"top\">qwen2.5:14b</th>\n",
       "      <th>codegen</th>\n",
       "      <td>0.914286</td>\n",
       "      <td>0.664286</td>\n",
       "    </tr>\n",
       "    <tr>\n",
       "      <th>direct</th>\n",
       "      <td>0.857143</td>\n",
       "      <td>0.742857</td>\n",
       "    </tr>\n",
       "    <tr>\n",
       "      <th rowspan=\"2\" valign=\"top\">qwen2.5:7b</th>\n",
       "      <th>codegen</th>\n",
       "      <td>0.542857</td>\n",
       "      <td>0.335714</td>\n",
       "    </tr>\n",
       "    <tr>\n",
       "      <th>direct</th>\n",
       "      <td>0.857143</td>\n",
       "      <td>0.728571</td>\n",
       "    </tr>\n",
       "  </tbody>\n",
       "</table>\n",
       "</div>"
      ],
      "text/plain": [
       "                      success     equal\n",
       "model       graph                      \n",
       "llama3.1:8b codegen  0.114286  0.014286\n",
       "            direct   0.428571  0.092857\n",
       "qwen2.5:14b codegen  0.914286  0.664286\n",
       "            direct   0.857143  0.742857\n",
       "qwen2.5:7b  codegen  0.542857  0.335714\n",
       "            direct   0.857143  0.728571"
      ]
     },
     "execution_count": 118,
     "metadata": {},
     "output_type": "execute_result"
    }
   ],
   "source": [
    "# df = pd.read_csv(\"../data/llm_ran_kubernetes_base.csv\")\n",
    "df.groupby([\"model\", \"graph\"]).agg({\"success\": \"mean\", \"equal\": \"mean\"})"
   ]
  },
  {
   "cell_type": "code",
   "execution_count": 165,
   "metadata": {},
   "outputs": [
    {
     "data": {
      "text/html": [
       "<div>\n",
       "<style scoped>\n",
       "    .dataframe tbody tr th:only-of-type {\n",
       "        vertical-align: middle;\n",
       "    }\n",
       "\n",
       "    .dataframe tbody tr th {\n",
       "        vertical-align: top;\n",
       "    }\n",
       "\n",
       "    .dataframe thead th {\n",
       "        text-align: right;\n",
       "    }\n",
       "</style>\n",
       "<table border=\"1\" class=\"dataframe\">\n",
       "  <thead>\n",
       "    <tr style=\"text-align: right;\">\n",
       "      <th></th>\n",
       "      <th></th>\n",
       "      <th></th>\n",
       "      <th>success</th>\n",
       "      <th>equal</th>\n",
       "    </tr>\n",
       "    <tr>\n",
       "      <th>model</th>\n",
       "      <th>graph</th>\n",
       "      <th>try</th>\n",
       "      <th></th>\n",
       "      <th></th>\n",
       "    </tr>\n",
       "  </thead>\n",
       "  <tbody>\n",
       "    <tr>\n",
       "      <th rowspan=\"8\" valign=\"top\">llama3.1:8b</th>\n",
       "      <th rowspan=\"4\" valign=\"top\">codegen</th>\n",
       "      <th>0</th>\n",
       "      <td>0.142857</td>\n",
       "      <td>0.000000</td>\n",
       "    </tr>\n",
       "    <tr>\n",
       "      <th>1</th>\n",
       "      <td>0.085714</td>\n",
       "      <td>0.000000</td>\n",
       "    </tr>\n",
       "    <tr>\n",
       "      <th>2</th>\n",
       "      <td>0.142857</td>\n",
       "      <td>0.028571</td>\n",
       "    </tr>\n",
       "    <tr>\n",
       "      <th>3</th>\n",
       "      <td>0.085714</td>\n",
       "      <td>0.028571</td>\n",
       "    </tr>\n",
       "    <tr>\n",
       "      <th rowspan=\"4\" valign=\"top\">direct</th>\n",
       "      <th>0</th>\n",
       "      <td>0.428571</td>\n",
       "      <td>0.142857</td>\n",
       "    </tr>\n",
       "    <tr>\n",
       "      <th>1</th>\n",
       "      <td>0.342857</td>\n",
       "      <td>0.028571</td>\n",
       "    </tr>\n",
       "    <tr>\n",
       "      <th>2</th>\n",
       "      <td>0.485714</td>\n",
       "      <td>0.057143</td>\n",
       "    </tr>\n",
       "    <tr>\n",
       "      <th>3</th>\n",
       "      <td>0.457143</td>\n",
       "      <td>0.142857</td>\n",
       "    </tr>\n",
       "    <tr>\n",
       "      <th rowspan=\"8\" valign=\"top\">qwen2.5:14b</th>\n",
       "      <th rowspan=\"4\" valign=\"top\">codegen</th>\n",
       "      <th>0</th>\n",
       "      <td>0.942857</td>\n",
       "      <td>0.628571</td>\n",
       "    </tr>\n",
       "    <tr>\n",
       "      <th>1</th>\n",
       "      <td>0.857143</td>\n",
       "      <td>0.628571</td>\n",
       "    </tr>\n",
       "    <tr>\n",
       "      <th>2</th>\n",
       "      <td>0.942857</td>\n",
       "      <td>0.714286</td>\n",
       "    </tr>\n",
       "    <tr>\n",
       "      <th>3</th>\n",
       "      <td>0.914286</td>\n",
       "      <td>0.685714</td>\n",
       "    </tr>\n",
       "    <tr>\n",
       "      <th rowspan=\"4\" valign=\"top\">direct</th>\n",
       "      <th>0</th>\n",
       "      <td>0.857143</td>\n",
       "      <td>0.800000</td>\n",
       "    </tr>\n",
       "    <tr>\n",
       "      <th>1</th>\n",
       "      <td>0.857143</td>\n",
       "      <td>0.657143</td>\n",
       "    </tr>\n",
       "    <tr>\n",
       "      <th>2</th>\n",
       "      <td>0.857143</td>\n",
       "      <td>0.771429</td>\n",
       "    </tr>\n",
       "    <tr>\n",
       "      <th>3</th>\n",
       "      <td>0.857143</td>\n",
       "      <td>0.742857</td>\n",
       "    </tr>\n",
       "    <tr>\n",
       "      <th rowspan=\"8\" valign=\"top\">qwen2.5:7b</th>\n",
       "      <th rowspan=\"4\" valign=\"top\">codegen</th>\n",
       "      <th>0</th>\n",
       "      <td>0.628571</td>\n",
       "      <td>0.371429</td>\n",
       "    </tr>\n",
       "    <tr>\n",
       "      <th>1</th>\n",
       "      <td>0.485714</td>\n",
       "      <td>0.228571</td>\n",
       "    </tr>\n",
       "    <tr>\n",
       "      <th>2</th>\n",
       "      <td>0.485714</td>\n",
       "      <td>0.371429</td>\n",
       "    </tr>\n",
       "    <tr>\n",
       "      <th>3</th>\n",
       "      <td>0.571429</td>\n",
       "      <td>0.371429</td>\n",
       "    </tr>\n",
       "    <tr>\n",
       "      <th rowspan=\"4\" valign=\"top\">direct</th>\n",
       "      <th>0</th>\n",
       "      <td>0.857143</td>\n",
       "      <td>0.771429</td>\n",
       "    </tr>\n",
       "    <tr>\n",
       "      <th>1</th>\n",
       "      <td>0.857143</td>\n",
       "      <td>0.714286</td>\n",
       "    </tr>\n",
       "    <tr>\n",
       "      <th>2</th>\n",
       "      <td>0.857143</td>\n",
       "      <td>0.771429</td>\n",
       "    </tr>\n",
       "    <tr>\n",
       "      <th>3</th>\n",
       "      <td>0.857143</td>\n",
       "      <td>0.657143</td>\n",
       "    </tr>\n",
       "  </tbody>\n",
       "</table>\n",
       "</div>"
      ],
      "text/plain": [
       "                          success     equal\n",
       "model       graph   try                    \n",
       "llama3.1:8b codegen 0    0.142857  0.000000\n",
       "                    1    0.085714  0.000000\n",
       "                    2    0.142857  0.028571\n",
       "                    3    0.085714  0.028571\n",
       "            direct  0    0.428571  0.142857\n",
       "                    1    0.342857  0.028571\n",
       "                    2    0.485714  0.057143\n",
       "                    3    0.457143  0.142857\n",
       "qwen2.5:14b codegen 0    0.942857  0.628571\n",
       "                    1    0.857143  0.628571\n",
       "                    2    0.942857  0.714286\n",
       "                    3    0.914286  0.685714\n",
       "            direct  0    0.857143  0.800000\n",
       "                    1    0.857143  0.657143\n",
       "                    2    0.857143  0.771429\n",
       "                    3    0.857143  0.742857\n",
       "qwen2.5:7b  codegen 0    0.628571  0.371429\n",
       "                    1    0.485714  0.228571\n",
       "                    2    0.485714  0.371429\n",
       "                    3    0.571429  0.371429\n",
       "            direct  0    0.857143  0.771429\n",
       "                    1    0.857143  0.714286\n",
       "                    2    0.857143  0.771429\n",
       "                    3    0.857143  0.657143"
      ]
     },
     "execution_count": 165,
     "metadata": {},
     "output_type": "execute_result"
    }
   ],
   "source": [
    "_df = df.copy()\n",
    "_df['try'] = _df['try'] % 4\n",
    "simdf = _df.groupby([\"model\", \"graph\", \"try\"]).agg({\"success\": \"mean\", \"equal\": \"mean\"})\n",
    "simdf"
   ]
  },
  {
   "cell_type": "code",
   "execution_count": 168,
   "metadata": {},
   "outputs": [
    {
     "data": {
      "image/png": "[encoded data removed]",
      "text/plain": [
       "<Figure size 1000x500 with 1 Axes>"
      ]
     },
     "metadata": {},
     "output_type": "display_data"
    },
    {
     "data": {
      "text/html": [
       "<div>\n",
       "<style scoped>\n",
       "    .dataframe tbody tr th:only-of-type {\n",
       "        vertical-align: middle;\n",
       "    }\n",
       "\n",
       "    .dataframe tbody tr th {\n",
       "        vertical-align: top;\n",
       "    }\n",
       "\n",
       "    .dataframe thead tr th {\n",
       "        text-align: left;\n",
       "    }\n",
       "\n",
       "    .dataframe thead tr:last-of-type th {\n",
       "        text-align: right;\n",
       "    }\n",
       "</style>\n",
       "<table border=\"1\" class=\"dataframe\">\n",
       "  <thead>\n",
       "    <tr>\n",
       "      <th></th>\n",
       "      <th></th>\n",
       "      <th colspan=\"2\" halign=\"left\">success</th>\n",
       "      <th colspan=\"2\" halign=\"left\">precision</th>\n",
       "    </tr>\n",
       "    <tr>\n",
       "      <th></th>\n",
       "      <th></th>\n",
       "      <th>mean</th>\n",
       "      <th>std</th>\n",
       "      <th>mean</th>\n",
       "      <th>std</th>\n",
       "    </tr>\n",
       "    <tr>\n",
       "      <th>model</th>\n",
       "      <th>graph</th>\n",
       "      <th></th>\n",
       "      <th></th>\n",
       "      <th></th>\n",
       "      <th></th>\n",
       "    </tr>\n",
       "  </thead>\n",
       "  <tbody>\n",
       "    <tr>\n",
       "      <th rowspan=\"2\" valign=\"top\">llama3.1:8b</th>\n",
       "      <th>codegen</th>\n",
       "      <td>0.114286</td>\n",
       "      <td>0.319300</td>\n",
       "      <td>0.014286</td>\n",
       "      <td>0.119092</td>\n",
       "    </tr>\n",
       "    <tr>\n",
       "      <th>direct</th>\n",
       "      <td>0.428571</td>\n",
       "      <td>0.496649</td>\n",
       "      <td>0.092857</td>\n",
       "      <td>0.291274</td>\n",
       "    </tr>\n",
       "    <tr>\n",
       "      <th rowspan=\"2\" valign=\"top\">qwen2.5:14b</th>\n",
       "      <th>codegen</th>\n",
       "      <td>0.914286</td>\n",
       "      <td>0.280947</td>\n",
       "      <td>0.664286</td>\n",
       "      <td>0.473935</td>\n",
       "    </tr>\n",
       "    <tr>\n",
       "      <th>direct</th>\n",
       "      <td>0.857143</td>\n",
       "      <td>0.351184</td>\n",
       "      <td>0.742857</td>\n",
       "      <td>0.438628</td>\n",
       "    </tr>\n",
       "    <tr>\n",
       "      <th rowspan=\"2\" valign=\"top\">qwen2.5:7b</th>\n",
       "      <th>codegen</th>\n",
       "      <td>0.542857</td>\n",
       "      <td>0.499949</td>\n",
       "      <td>0.335714</td>\n",
       "      <td>0.473935</td>\n",
       "    </tr>\n",
       "    <tr>\n",
       "      <th>direct</th>\n",
       "      <td>0.857143</td>\n",
       "      <td>0.351184</td>\n",
       "      <td>0.728571</td>\n",
       "      <td>0.446293</td>\n",
       "    </tr>\n",
       "  </tbody>\n",
       "</table>\n",
       "</div>"
      ],
      "text/plain": [
       "                      success           precision          \n",
       "                         mean       std      mean       std\n",
       "model       graph                                          \n",
       "llama3.1:8b codegen  0.114286  0.319300  0.014286  0.119092\n",
       "            direct   0.428571  0.496649  0.092857  0.291274\n",
       "qwen2.5:14b codegen  0.914286  0.280947  0.664286  0.473935\n",
       "            direct   0.857143  0.351184  0.742857  0.438628\n",
       "qwen2.5:7b  codegen  0.542857  0.499949  0.335714  0.473935\n",
       "            direct   0.857143  0.351184  0.728571  0.446293"
      ]
     },
     "execution_count": 168,
     "metadata": {},
     "output_type": "execute_result"
    }
   ],
   "source": [
    "fig, ax = plt.subplots(figsize=(10, 5))\n",
    "# err = df.groupby([\"model\", \"graph\"]).agg({\"equal\": \"std\", \"success\": \"std\"})\n",
    "_df = (\n",
    "    df.groupby([\"model\", \"graph\"])\n",
    "    .agg({\"success\": [\"mean\", \"std\"], \"equal\": [\"mean\", \"std\"]})\n",
    "    .rename({\"equal\": \"precision\"}, axis=1)\n",
    "    # .plot(kind='barh', ax=ax, ylim=(0, 1), yerr=\"std\", title=\"Average Success Rate and Precision\")\n",
    ")\n",
    "(\n",
    "    _df.xs(\"mean\", axis=1, level=1)\n",
    "    .sort_values(\"precision\")\n",
    "    .plot(\n",
    "        kind='barh', ax=ax, ylim=(0, 1), \n",
    "        title=\"Average Success Rate and Precision\",\n",
    "        # xerr=_df.xs(\"std\", axis=1, level=1),\n",
    "    )\n",
    ")\n",
    "plt.show()\n",
    "_df"
   ]
  },
  {
   "cell_type": "code",
   "execution_count": 170,
   "metadata": {},
   "outputs": [
    {
     "data": {
      "image/png": "[encoded data removed]",
      "text/plain": [
       "<Figure size 1500x1000 with 2 Axes>"
      ]
     },
     "metadata": {},
     "output_type": "display_data"
    }
   ],
   "source": [
    "_mdls = [\n",
    "    models.QWEN_25_7B,\n",
    "    models.QWEN_25_14B,\n",
    "]\n",
    "fig, ax = plt.subplots(nrows=len(_mdls), figsize=(15, 10))\n",
    "for i, g in enumerate(df['graph'].unique()):\n",
    "    _total = pd.DataFrame()\n",
    "    for _, _mdl in enumerate(_mdls):\n",
    "        _df = (\n",
    "            df[(df['graph'] == g) & (df['model'] == _mdl)]\n",
    "            .groupby([\"query_id\"])\n",
    "            .agg({\"equal\": \"mean\"})\n",
    "            .rename({\"equal\": f\"precision\\n{_mdl}\"}, axis=1)\n",
    "        )\n",
    "        _total = pd.concat([_total, _df], axis=1)\n",
    "    (\n",
    "        _total\n",
    "        .sort_values(\"query_id\", ascending=False)\n",
    "        .plot(\n",
    "            kind='barh', ax=ax[i], ylim=(0, 1),\n",
    "            title=f\"{g} Precision by Query\",\n",
    "        )\n",
    "    )\n",
    "plt.show()\n",
    "# _total"
   ]
  },
  {
   "cell_type": "code",
   "execution_count": 105,
   "metadata": {},
   "outputs": [
    {
     "data": {
      "image/png": "[encoded data removed]",
      "text/plain": [
       "<Figure size 1000x500 with 1 Axes>"
      ]
     },
     "metadata": {},
     "output_type": "display_data"
    }
   ],
   "source": [
    "fig, ax = plt.subplots(figsize=(10, 5))\n",
    "\n",
    "(\n",
    "    df[df['success'] == False]\n",
    "    .groupby([\"model\", \"failed_reason\"])\n",
    "    .count()['query_id']\n",
    "    .plot(kind='barh', ylabel=\"count\", ax=ax, title=\"Failed Reason\")\n",
    ")\n",
    "plt.show()"
   ]
  }
 ],
 "metadata": {
  "kernelspec": {
   "display_name": "llm-ran-7dM-BKVi-py3.9",
   "language": "python",
   "name": "python3"
  },
  "language_info": {
   "codemirror_mode": {
    "name": "ipython",
    "version": 3
   },
   "file_extension": ".py",
   "mimetype": "text/x-python",
   "name": "python",
   "nbconvert_exporter": "python",
   "pygments_lexer": "ipython3",
   "version": "3.9.13"
  }
 },
 "nbformat": 4,
 "nbformat_minor": 2
}
